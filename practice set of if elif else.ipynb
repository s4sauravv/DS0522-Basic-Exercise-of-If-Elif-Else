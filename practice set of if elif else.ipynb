{
 "cells": [
  {
   "cell_type": "code",
   "execution_count": 1,
   "id": "cf0074ca",
   "metadata": {},
   "outputs": [],
   "source": [
    "#Basic Exercise of if ,elif else."
   ]
  },
  {
   "cell_type": "code",
   "execution_count": 2,
   "id": "49a20b76",
   "metadata": {},
   "outputs": [
    {
     "name": "stdout",
     "output_type": "stream",
     "text": [
      "Enter a Number 78\n",
      "Enter a Number 45\n",
      "Enter a Number 12\n",
      "Enter a Number 69\n",
      "78 Is Greatest\n"
     ]
    }
   ],
   "source": [
    "# Question 1 - Write a program to find the greatest of four numbers entered by the user.\n",
    "\n",
    "#Solution =\n",
    "\n",
    "num1=int(input(\"Enter a Number \"))\n",
    "num2=int(input(\"Enter a Number \"))\n",
    "num3=int(input(\"Enter a Number \"))\n",
    "num4=int(input(\"Enter a Number \"))\n",
    "\n",
    "if (num1>num4):\n",
    "    f1=num1\n",
    "else :\n",
    "    f1=num4\n",
    "if (num2>num3):\n",
    "    f2=num2\n",
    "else:\n",
    "    f1=num3\n",
    "if (f1>f2):\n",
    "    print(f1, \"Is Greatest\")\n",
    "else:\n",
    "    print(f2, \"Is Greatest\")"
   ]
  },
  {
   "cell_type": "code",
   "execution_count": 4,
   "id": "b75a167f",
   "metadata": {},
   "outputs": [
    {
     "name": "stdout",
     "output_type": "stream",
     "text": [
      "Enter your makrs45\n",
      "Enter your marks41\n",
      "Enter Your marks42\n",
      "You are pass\n"
     ]
    }
   ],
   "source": [
    "#   Question 3 - Write a program to find out whether a student is pass or fail if it requires a total of 40% and at\n",
    "#   least 33% in each subject to pass. Assume 3 subjects and take marks as an input from the user.\n",
    "\n",
    "\n",
    "#Solution - \n",
    "\n",
    "mark1=int(input(\"Enter your makrs\"))\n",
    "mark2=int(input(\"Enter your marks\"))\n",
    "mark3=int(input(\"Enter Your marks\"))\n",
    "\n",
    "if (mark1<33 or mark2<33 or mark3<33 ):\n",
    "    print(\"You are fail\")\n",
    "elif (mark1 + mark2 + mark3)/3 <40:\n",
    "    print(\"You are fail \")\n",
    "else:\n",
    "    print(\"You are pass\")"
   ]
  },
  {
   "cell_type": "code",
   "execution_count": 5,
   "id": "23ed3840",
   "metadata": {},
   "outputs": [],
   "source": [
    "#   Question 4 -A spam comment is defined as a text containing the following keywords:\n",
    "#   “make a lot of money”, “buy now”, “subscribe this”, “click this”.\n",
    "#   Write a program to detect these spams."
   ]
  },
  {
   "cell_type": "code",
   "execution_count": 19,
   "id": "177e45ab",
   "metadata": {},
   "outputs": [
    {
     "name": "stdout",
     "output_type": "stream",
     "text": [
      "Enter your text buy now\n",
      "This items are spam\n"
     ]
    }
   ],
   "source": [
    "text=input(\"Enter your text \")\n",
    "\n",
    "if (\"make a lot of money\" in text):\n",
    "    spam=True\n",
    "elif (\"buy now\" in text):\n",
    "    spam=True\n",
    "elif (\"subscribe this\" in text):\n",
    "    spam=True\n",
    "elif (\"click this\" in text):\n",
    "    spam=True\n",
    "else:\n",
    "     spam=False\n",
    "if (spam):\n",
    "    print(\"This items are spam\")\n",
    "else:\n",
    "    print(\"This item is not Spam\")\n",
    "    "
   ]
  },
  {
   "cell_type": "code",
   "execution_count": 25,
   "id": "eb0f1756",
   "metadata": {},
   "outputs": [
    {
     "name": "stdout",
     "output_type": "stream",
     "text": [
      "Enter Your Text \n",
      "\t Saurav is a Ex Mining Engineer\n",
      "its containing more then 10 charater\n"
     ]
    }
   ],
   "source": [
    "# Question 4 -Write a program to find whether a given username contains less than 10 characters or not.\n",
    "\n",
    "#Solution - \n",
    "\n",
    "text=input(\"Enter Your Text \\n\\t \")\n",
    "\n",
    "if len(text)<=10:\n",
    "    print(\"its not containg 10 charater\")\n",
    "elif len(text)>=10:\n",
    "    print(\"its containing more then 10 charater\")\n",
    "else:\n",
    "    print(\"Hihihih\")\n",
    "    "
   ]
  },
  {
   "cell_type": "code",
   "execution_count": 29,
   "id": "0d12680e",
   "metadata": {},
   "outputs": [
    {
     "name": "stdout",
     "output_type": "stream",
     "text": [
      "Enter Your name \n",
      "Amisha\n",
      "Please Try again after some time.\n"
     ]
    }
   ],
   "source": [
    "# Question 5 -Write a program that finds out whether a given name is present in a list or not.\n",
    "\n",
    "\n",
    "#Solution- \n",
    "name=input(\"Enter Your name \\n\")\n",
    "names=[\"saurav\",\"yashu\",\"rohit\",\"munmun\",\"riya\"]\n",
    "\n",
    "if name in names:\n",
    "    print(\"Yes its here\")\n",
    "else:\n",
    "    print(\"Please Try again after some time.\")"
   ]
  },
  {
   "cell_type": "code",
   "execution_count": 31,
   "id": "46628ce6",
   "metadata": {},
   "outputs": [
    {
     "name": "stdout",
     "output_type": "stream",
     "text": [
      "Enter Your Marks78\n",
      "78  B+\n"
     ]
    }
   ],
   "source": [
    "# Question 6 - Write a program to calculate the grade of a student from his marks from the following scheme:\n",
    "#      90-100\tO (O for outstanding)\n",
    "#      80-90\tA+\n",
    "#      70-80\tB+\n",
    "#      60-70\tC+\n",
    "#      50-60\tD+\n",
    "#      <50\tF\n",
    "\n",
    "\n",
    "\n",
    "\n",
    "# Solution :-\n",
    "\n",
    "marks=int(input(\"Enter Your Marks\"))\n",
    "if marks >=90 and marks <=100:\n",
    "    print(marks,\" Outstanding\")\n",
    "elif marks>=80 and marks<=90:\n",
    "    print(marks,\" A+\")\n",
    "elif marks>=70 and marks<=80:\n",
    "    print(marks ,\" B+\")\n",
    "elif marks>=60 and marks<=70:\n",
    "    print(marks, \" C+\")\n",
    "elif marks>=50 and marks<=60:\n",
    "    print(marks,\" D+\")\n",
    "else:\n",
    "    print(marks,\" You are fail but you made for different thing\")"
   ]
  },
  {
   "cell_type": "code",
   "execution_count": 41,
   "id": "266f371e",
   "metadata": {},
   "outputs": [
    {
     "name": "stdout",
     "output_type": "stream",
     "text": [
      "Enter your post name \n",
      "HarRY\n",
      "He is Talkin about Harry\n"
     ]
    }
   ],
   "source": [
    "# Question 7-  Write a program to find out whether a given post is talking about “Harry” or not.\n",
    "#use .lower formula-his method returns a copy of the string in which all case-based characters have been lowercased.\n",
    "\n",
    "#Soltuin :-\n",
    "\n",
    "name=input(\"Enter your post name \\n\")\n",
    "if 'harry' in name.lower():\n",
    "    print(\"He is Talkin about Harry\")\n",
    "else :\n",
    "    print(\"He is not talking about Harry\")"
   ]
  },
  {
   "cell_type": "code",
   "execution_count": null,
   "id": "34f750ef",
   "metadata": {},
   "outputs": [],
   "source": [
    "#Student of Data science\n",
    "#Student of DataTrained - Saurav\n",
    "\n",
    "# Data- 12 june 2022"
   ]
  },
  {
   "cell_type": "code",
   "execution_count": null,
   "id": "4e45a83a",
   "metadata": {},
   "outputs": [],
   "source": []
  },
  {
   "cell_type": "code",
   "execution_count": null,
   "id": "843ba11c",
   "metadata": {},
   "outputs": [],
   "source": []
  }
 ],
 "metadata": {
  "kernelspec": {
   "display_name": "Python 3 (ipykernel)",
   "language": "python",
   "name": "python3"
  },
  "language_info": {
   "codemirror_mode": {
    "name": "ipython",
    "version": 3
   },
   "file_extension": ".py",
   "mimetype": "text/x-python",
   "name": "python",
   "nbconvert_exporter": "python",
   "pygments_lexer": "ipython3",
   "version": "3.9.12"
  }
 },
 "nbformat": 4,
 "nbformat_minor": 5
}
